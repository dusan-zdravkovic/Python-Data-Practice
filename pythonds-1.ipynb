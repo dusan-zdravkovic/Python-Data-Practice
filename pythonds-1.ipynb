{
 "cells": [
  {
   "cell_type": "markdown",
   "id": "1e8e5a47",
   "metadata": {},
   "source": [
    "Practice Data Analysis"
   ]
  },
  {
   "cell_type": "code",
   "execution_count": 1,
   "id": "f072d7d9",
   "metadata": {},
   "outputs": [
    {
     "name": "stdout",
     "output_type": "stream",
     "text": [
      "Movies:\n",
      "   movieId                               title  \\\n",
      "0        1                    Toy Story (1995)   \n",
      "1        2                      Jumanji (1995)   \n",
      "2        3             Grumpier Old Men (1995)   \n",
      "3        4            Waiting to Exhale (1995)   \n",
      "4        5  Father of the Bride Part II (1995)   \n",
      "\n",
      "                                        genres  \n",
      "0  Adventure|Animation|Children|Comedy|Fantasy  \n",
      "1                   Adventure|Children|Fantasy  \n",
      "2                               Comedy|Romance  \n",
      "3                         Comedy|Drama|Romance  \n",
      "4                                       Comedy   \n",
      "\n",
      "Links:\n",
      "   movieId  imdbId   tmdbId\n",
      "0        1  114709    862.0\n",
      "1        2  113497   8844.0\n",
      "2        3  113228  15602.0\n",
      "3        4  114885  31357.0\n",
      "4        5  113041  11862.0 \n",
      "\n",
      "Ratings:\n",
      "   userId  movieId  rating  timestamp\n",
      "0       1       17     4.0  944249077\n",
      "1       1       25     1.0  944250228\n",
      "2       1       29     2.0  943230976\n",
      "3       1       30     5.0  944249077\n",
      "4       1       32     5.0  943228858 \n",
      "\n",
      "Tags:\n",
      "   userId  movieId          tag   timestamp\n",
      "0      22    26479  Kevin Kline  1583038886\n",
      "1      22    79592     misogyny  1581476297\n",
      "2      22   247150   acrophobia  1622483469\n",
      "3      34     2174        music  1249808064\n",
      "4      34     2174        weird  1249808102\n"
     ]
    }
   ],
   "source": [
    "import pandas as pd\n",
    "\n",
    "# Load CSVs\n",
    "movies_df = pd.read_csv('/Users/dusanzdravkovic/Desktop/Python-Finance/ml-32m/movies.csv')\n",
    "links_df = pd.read_csv('/Users/dusanzdravkovic/Desktop/Python-Finance/ml-32m/links.csv')\n",
    "ratings_df = pd.read_csv('/Users/dusanzdravkovic/Desktop/Python-Finance/ml-32m/ratings.csv')\n",
    "tags_df = pd.read_csv('/Users/dusanzdravkovic/Desktop/Python-Finance/ml-32m/tags.csv')\n",
    "\n",
    "# Preview \n",
    "print(\"Movies:\")\n",
    "print(movies_df.head(), \"\\n\")\n",
    "\n",
    "print(\"Links:\")\n",
    "print(links_df.head(), \"\\n\")\n",
    "\n",
    "print(\"Ratings:\")\n",
    "print(ratings_df.head(), \"\\n\")\n",
    "\n",
    "print(\"Tags:\")\n",
    "print(tags_df.head())"
   ]
  },
  {
   "cell_type": "code",
   "execution_count": 2,
   "id": "032d0e80",
   "metadata": {},
   "outputs": [
    {
     "name": "stdout",
     "output_type": "stream",
     "text": [
      "Movies: (87585, 3)\n",
      "Links: (87585, 3)\n",
      "Ratings: (32000204, 4)\n",
      "Tags: (2000072, 4)\n"
     ]
    }
   ],
   "source": [
    "print(\"Movies:\", movies_df.shape)\n",
    "print(\"Links:\", links_df.shape)\n",
    "print(\"Ratings:\", ratings_df.shape)\n",
    "print(\"Tags:\", tags_df.shape)"
   ]
  },
  {
   "cell_type": "code",
   "execution_count": 3,
   "id": "20e78ec6",
   "metadata": {},
   "outputs": [
    {
     "name": "stdout",
     "output_type": "stream",
     "text": [
      "Movies Columns: ['movieId', 'title', 'genres']\n",
      "Links Columns: ['movieId', 'imdbId', 'tmdbId']\n",
      "Ratings Columns: ['userId', 'movieId', 'rating', 'timestamp']\n",
      "Tags Columns: ['userId', 'movieId', 'tag', 'timestamp']\n"
     ]
    }
   ],
   "source": [
    "print(\"Movies Columns:\", movies_df.columns.tolist())\n",
    "print(\"Links Columns:\", links_df.columns.tolist())\n",
    "print(\"Ratings Columns:\", ratings_df.columns.tolist())\n",
    "print(\"Tags Columns:\", tags_df.columns.tolist())"
   ]
  },
  {
   "cell_type": "code",
   "execution_count": 7,
   "id": "7635fd0d",
   "metadata": {},
   "outputs": [
    {
     "name": "stdout",
     "output_type": "stream",
     "text": [
      "movieId\n",
      "1    3.897438\n",
      "2    3.275758\n",
      "3    3.139447\n",
      "4    2.845331\n",
      "5    3.059602\n",
      "Name: rating, dtype: float64\n"
     ]
    }
   ],
   "source": [
    "average_ratings = ratings_df.groupby('movieId')['rating'].mean()\n",
    "print(average_ratings.head())"
   ]
  },
  {
   "cell_type": "code",
   "execution_count": 13,
   "id": "6fe97ff0",
   "metadata": {},
   "outputs": [
    {
     "name": "stdout",
     "output_type": "stream",
     "text": [
      "   movieId  rating                                              title\n",
      "0   199103     5.0          Franco Escamilla: For the Anecdote (2018)\n",
      "1   268476     5.0                Rebuilding a Dream Christmas (2021)\n",
      "2   171849     5.0                              Without Family (1984)\n",
      "3   268054     5.0                            Time of the Gods (1992)\n",
      "4   268090     5.0  A Godwink Christmas: Second Chance, First Love...\n"
     ]
    }
   ],
   "source": [
    "top_rated = average_ratings.sort_values(ascending=False).head(5)\n",
    "top_rated_with_titles = top_rated.reset_index().merge(movies_df, on='movieId')\n",
    "print(top_rated_with_titles[['movieId', 'rating', 'title']])"
   ]
  },
  {
   "cell_type": "code",
   "execution_count": null,
   "id": "33290562",
   "metadata": {},
   "outputs": [],
   "source": []
  }
 ],
 "metadata": {
  "kernelspec": {
   "display_name": "Python (algo-trading)",
   "language": "python",
   "name": "algo-trading"
  },
  "language_info": {
   "codemirror_mode": {
    "name": "ipython",
    "version": 3
   },
   "file_extension": ".py",
   "mimetype": "text/x-python",
   "name": "python",
   "nbconvert_exporter": "python",
   "pygments_lexer": "ipython3",
   "version": "3.9.20"
  }
 },
 "nbformat": 4,
 "nbformat_minor": 5
}
